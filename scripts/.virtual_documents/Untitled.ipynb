import seaborn as sns
import pandas as pd
import matplotlib.pyplot as plt
from vulnerability_networks.config import PATH_PROCESSED_DATA, PATH_FIGURES
import numpy as np
import scienceplots
import joblib
plt.style.use(['science','ieee'])
plt.rcParams.update({"figure.dpi": 200})


import seaborn as sns
import matplotlib.pyplot as plt
df = sns.load_dataset('tips')


times_by_scenario = joblib.load(PATH_PROCESSED_DATA/"times_by_scenario.pkl")
data = []
for scenarios, v in times_by_scenario.items():
    for method, time in v.items():
        for t in time:
            data.append({"scenarios": scenarios, "method": method, "time": t})


new_df = pd.DataFrame(data)


df = df.query("day != 'Fri'")


df["day"] = df["day"].astype(str)


df


# Create and display the plot
boxprops = dict(linestyle='-', linewidth=.5)
flierprops = dict(marker='x', markersize=3)
medianprops = dict(linestyle='-', linewidth=1, color=(.1, .1, .1), markeredgewidth=10)
# meanpointprops = dict(marker='D', markeredgecolor='black',markerfacecolor='firebrick')
# meanlineprops = dict(linestyle='--', linewidth=2.5, color='purple')

ax = sns.boxplot(x="day",
            y="total_bill",
            hue="smoker",
            fill=True,
            flierprops=flierprops,
            fliersize=3.8,
            medianprops=medianprops,
            whiskerprops={"ls": "-", "lw": .7, "marker":None},
            boxprops=boxprops,
            capprops=dict(linewidth=.7),
            data=df,
            palette=["r", "b", "g"])
for patch in ax.patches:
    r, g, b, a = patch.get_facecolor()
    patch.set_facecolor((r, g, b, .8))
plt.legend(loc="lower center", bbox_to_anchor=(0.25, 1, 0.5, 0.5), ncols=2)
plt.show()


ax





# Create and display the plot
boxprops = dict(linestyle='-', linewidth=.5)
flierprops = dict(marker='x', markersize=3)
medianprops = dict(linestyle='-', linewidth=1, color=(.1, .1, .1), markeredgewidth=10)
# meanpointprops = dict(marker='D', markeredgecolor='black',markerfacecolor='firebrick')
# meanlineprops = dict(linestyle='--', linewidth=2.5, color='purple')

ax = sns.boxplot(x="scenarios",
            y="time",
            hue="method",
            fill=True,
            flierprops=flierprops,
            fliersize=3.8,
            medianprops=medianprops,
            whiskerprops={"ls": "-", "lw": .7, "marker":None},
            boxprops=boxprops,
            capprops=dict(linewidth=.7),
            data=new_df,
            palette=["r", "b", "g"])
for patch in ax.patches:
    r, g, b, a = patch.get_facecolor()
    patch.set_facecolor((r, g, b, .8))
plt.legend(loc="lower center", bbox_to_anchor=(0.25, 1, 0.5, 0.5), ncols=2)
plt.show()



